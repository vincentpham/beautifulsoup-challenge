{
 "cells": [
  {
   "cell_type": "markdown",
   "metadata": {},
   "source": [
    "# Module 12 Challenge\n",
    "## Deliverable 2: Scrape and Analyze Mars Weather Data"
   ]
  },
  {
   "cell_type": "code",
   "execution_count": 1,
   "metadata": {},
   "outputs": [],
   "source": [
    "# Import relevant libraries\n",
    "from splinter import Browser\n",
    "from bs4 import BeautifulSoup as soup\n",
    "import matplotlib.pyplot as plt\n",
    "import pandas as pd"
   ]
  },
  {
   "cell_type": "code",
   "execution_count": 2,
   "metadata": {},
   "outputs": [],
   "source": [
    "browser = Browser('chrome')"
   ]
  },
  {
   "cell_type": "markdown",
   "metadata": {},
   "source": [
    "### Step 1: Visit the Website\n",
    "\n",
    "Use automated browsing to visit the [Mars Temperature Data Site](https://static.bc-edx.com/data/web/mars_facts/temperature.html). Inspect the page to identify which elements to scrape.\n",
    "\n",
    "   > **Hint** To identify which elements to scrape, you might want to inspect the page by using Chrome DevTools to discover whether the table contains usable classes.\n"
   ]
  },
  {
   "cell_type": "code",
   "execution_count": 3,
   "metadata": {},
   "outputs": [],
   "source": [
    "# Visit the website\n",
    "# https://static.bc-edx.com/data/web/mars_facts/temperature.html\n",
    "url = \"https://static.bc-edx.com/data/web/mars_facts/temperature.html\"\n",
    "browser.visit(url)"
   ]
  },
  {
   "cell_type": "markdown",
   "metadata": {},
   "source": [
    "### Step 2: Scrape the Table\n",
    "\n",
    "Create a Beautiful Soup object and use it to scrape the data in the HTML table.\n",
    "\n",
    "Note that this can also be achieved by using the Pandas `read_html` function. However, use Beautiful Soup here to continue sharpening your web scraping skills."
   ]
  },
  {
   "cell_type": "code",
   "execution_count": 4,
   "metadata": {},
   "outputs": [],
   "source": [
    "# Create a Beautiful Soup Object\n",
    "html = browser.html\n",
    "soup = soup(html, 'html.parser')"
   ]
  },
  {
   "cell_type": "code",
   "execution_count": 7,
   "metadata": {},
   "outputs": [
    {
     "name": "stdout",
     "output_type": "stream",
     "text": [
      "[<tr>\n",
      "<th>id</th>\n",
      "<th>terrestrial_date</th>\n",
      "<th>sol</th>\n",
      "<th>ls</th>\n",
      "<th>month</th>\n",
      "<th>min_temp</th>\n",
      "<th>pressure</th>\n",
      "</tr>, <tr class=\"data-row\">\n",
      "<td>2</td>\n",
      "<td>2012-08-16</td>\n",
      "<td>10</td>\n",
      "<td>155</td>\n",
      "<td>6</td>\n",
      "<td>-75.0</td>\n",
      "<td>739.0</td>\n",
      "</tr>]\n"
     ]
    }
   ],
   "source": [
    "# Extract all rows of data\n",
    "table_rows = soup.find_all('tr') # class_= 'data-row'\n",
    "print(table_rows[:2])\n"
   ]
  },
  {
   "cell_type": "markdown",
   "metadata": {},
   "source": [
    "### Step 3: Store the Data\n",
    "\n",
    "Assemble the scraped data into a Pandas DataFrame. The columns should have the same headings as the table on the website. Here’s an explanation of the column headings:\n",
    "\n",
    "* `id`: the identification number of a single transmission from the Curiosity rover\n",
    "* `terrestrial_date`: the date on Earth\n",
    "* `sol`: the number of elapsed sols (Martian days) since Curiosity landed on Mars\n",
    "* `ls`: the solar longitude\n",
    "* `month`: the Martian month\n",
    "* `min_temp`: the minimum temperature, in Celsius, of a single Martian day (sol)\n",
    "* `pressure`: The atmospheric pressure at Curiosity's location"
   ]
  },
  {
   "cell_type": "code",
   "execution_count": 12,
   "metadata": {},
   "outputs": [],
   "source": [
    "# Create an empty list\n",
    "data_list = []\n",
    "\n",
    "# Loop through the scraped data to create a list of rows\n",
    "\n",
    "\n",
    "# Loop through each table row\n",
    "for tr in table_rows:\n",
    "\n",
    "    table_data = tr.find_all('td')\n",
    "    \n",
    "    # extracting the text from each cell\n",
    "    row_data = [cell.text for cell in table_data]\n",
    "    \n",
    "    # skipping rows that don't have the expected number of columns, or else doesn't work\n",
    "    if len(row_data) != 7:\n",
    "        continue\n",
    "    \n",
    "    # dictionary for the row data\n",
    "    row_dict = {\n",
    "        'id': row_data[0],\n",
    "        'terrestrial_date': row_data[1],\n",
    "        'sol': row_data[2],\n",
    "        'ls': row_data[3],\n",
    "        'month': row_data[4],\n",
    "        'min_temp': row_data[5],\n",
    "        'pressure': row_data[6]\n",
    "    }\n",
    "    \n",
    "    # Add the dictionary to the list\n",
    "    data_list.append(row_dict)"
   ]
  },
  {
   "cell_type": "code",
   "execution_count": 13,
   "metadata": {},
   "outputs": [],
   "source": [
    "# Create a Pandas DataFrame by using the list of rows and a list of the column names\n",
    "data_list_df = pd.DataFrame(data_list)\n"
   ]
  },
  {
   "cell_type": "code",
   "execution_count": 14,
   "metadata": {},
   "outputs": [
    {
     "name": "stdout",
     "output_type": "stream",
     "text": [
      "   id terrestrial_date sol   ls month min_temp pressure\n",
      "0   2       2012-08-16  10  155     6    -75.0    739.0\n",
      "1  13       2012-08-17  11  156     6    -76.0    740.0\n",
      "2  24       2012-08-18  12  156     6    -76.0    741.0\n",
      "3  35       2012-08-19  13  157     6    -74.0    732.0\n",
      "4  46       2012-08-20  14  157     6    -74.0    740.0\n"
     ]
    }
   ],
   "source": [
    "# Confirm DataFrame was created successfully\n",
    "print(data_list_df.head())"
   ]
  },
  {
   "cell_type": "markdown",
   "metadata": {},
   "source": [
    "### Step 4: Prepare Data for Analysis\n",
    "\n",
    "Examine the data types that are currently associated with each column. If necessary, cast (or convert) the data to the appropriate `datetime`, `int`, or `float` data types.\n",
    "\n",
    "  > **Hint** You can use the Pandas `astype` and `to_datetime` methods to accomplish this task.\n"
   ]
  },
  {
   "cell_type": "code",
   "execution_count": 16,
   "metadata": {},
   "outputs": [
    {
     "name": "stdout",
     "output_type": "stream",
     "text": [
      "id                  object\n",
      "terrestrial_date    object\n",
      "sol                 object\n",
      "ls                  object\n",
      "month               object\n",
      "min_temp            object\n",
      "pressure            object\n",
      "dtype: object\n"
     ]
    }
   ],
   "source": [
    "# Examine data type of each column\n",
    "print(data_list_df.dtypes)"
   ]
  },
  {
   "cell_type": "code",
   "execution_count": 17,
   "metadata": {},
   "outputs": [],
   "source": [
    "# Change data types for data analysis\n",
    "data_list_df['id'] = data_list_df['id'].astype('int')\n",
    "\n",
    "data_list_df['terrestrial_date'] = pd.to_datetime(data_list_df['terrestrial_date'])\n",
    "\n",
    "data_list_df['sol'] = data_list_df['sol'].astype('int64')\n",
    "data_list_df['ls'] = data_list_df['ls'].astype('int64')\n",
    "data_list_df['month'] = data_list_df['month'].astype('int64')\n",
    "\n",
    "data_list_df['min_temp'] = data_list_df['min_temp'].astype('float')\n",
    "data_list_df['pressure'] = data_list_df['pressure'].astype('float')\n",
    "\n"
   ]
  },
  {
   "cell_type": "code",
   "execution_count": 18,
   "metadata": {},
   "outputs": [
    {
     "name": "stdout",
     "output_type": "stream",
     "text": [
      "id                           int32\n",
      "terrestrial_date    datetime64[ns]\n",
      "sol                          int64\n",
      "ls                           int64\n",
      "month                        int64\n",
      "min_temp                   float64\n",
      "pressure                   float64\n",
      "dtype: object\n"
     ]
    }
   ],
   "source": [
    "# Confirm type changes were successful by examining data types again\n",
    "print(data_list_df.dtypes)"
   ]
  },
  {
   "cell_type": "markdown",
   "metadata": {},
   "source": [
    "### Step 5: Analyze the Data\n",
    "\n",
    "Analyze your dataset by using Pandas functions to answer the following questions:\n",
    "\n",
    "1. How many months exist on Mars?\n",
    "2. How many Martian (and not Earth) days worth of data exist in the scraped dataset?\n",
    "3. What are the coldest and the warmest months on Mars (at the location of Curiosity)? To answer this question:\n",
    "    * Find the average the minimum daily temperature for all of the months.\n",
    "    * Plot the results as a bar chart.\n",
    "4. Which months have the lowest and the highest atmospheric pressure on Mars? To answer this question:\n",
    "    * Find the average the daily atmospheric pressure of all the months.\n",
    "    * Plot the results as a bar chart.\n",
    "5. About how many terrestrial (Earth) days exist in a Martian year? To answer this question:\n",
    "    * Consider how many days elapse on Earth in the time that Mars circles the Sun once.\n",
    "    * Visually estimate the result by plotting the daily minimum temperature.\n"
   ]
  },
  {
   "cell_type": "code",
   "execution_count": 25,
   "metadata": {},
   "outputs": [
    {
     "data": {
      "text/plain": [
       "12"
      ]
     },
     "execution_count": 25,
     "metadata": {},
     "output_type": "execute_result"
    }
   ],
   "source": [
    "# 1. How many months are there on Mars?\n",
    "unique_months = data_list_df['month'].nunique()\n",
    "unique_months\n"
   ]
  },
  {
   "cell_type": "code",
   "execution_count": 24,
   "metadata": {},
   "outputs": [
    {
     "data": {
      "text/plain": [
       "1867"
      ]
     },
     "execution_count": 24,
     "metadata": {},
     "output_type": "execute_result"
    }
   ],
   "source": [
    "# 2. How many Martian days' worth of data are there?\n",
    "unique_sols = data_list_df['sol'].nunique()\n",
    "unique_sols"
   ]
  },
  {
   "cell_type": "code",
   "execution_count": 28,
   "metadata": {},
   "outputs": [
    {
     "data": {
      "text/plain": [
       "month\n",
       "1    -77.160920\n",
       "2    -79.932584\n",
       "3    -83.307292\n",
       "4    -82.747423\n",
       "5    -79.308725\n",
       "6    -75.299320\n",
       "7    -72.281690\n",
       "8    -68.382979\n",
       "9    -69.171642\n",
       "10   -71.982143\n",
       "11   -71.985507\n",
       "12   -74.451807\n",
       "Name: min_temp, dtype: float64"
      ]
     },
     "execution_count": 28,
     "metadata": {},
     "output_type": "execute_result"
    }
   ],
   "source": [
    "# 3. What is the average low temperature by month?\n",
    "avg_low_temp_by_month = data_list_df.groupby('month')['min_temp'].mean()\n",
    "\n",
    "avg_low_temp_by_month"
   ]
  },
  {
   "cell_type": "code",
   "execution_count": 31,
   "metadata": {},
   "outputs": [
    {
     "data": {
      "image/png": "[encoded data removed]",
      "text/plain": [
       "<Figure size 500x300 with 1 Axes>"
      ]
     },
     "metadata": {},
     "output_type": "display_data"
    }
   ],
   "source": [
    "# Plot the average temperature by month\n",
    "\n",
    "# creating a bar chart\n",
    "plt.figure(figsize=(5, 3))\n",
    "avg_low_temp_by_month.plot(kind='bar')\n",
    "\n",
    "# labels and title\n",
    "plt.xlabel('Month')\n",
    "plt.ylabel('Temperature in Celsius')\n",
    "plt.title('Average Temperature by Month on Mars')\n",
    "\n",
    "# Show the plot\n",
    "plt.show()"
   ]
  },
  {
   "cell_type": "code",
   "execution_count": 41,
   "metadata": {},
   "outputs": [
    {
     "data": {
      "image/png": "[encoded data removed]",
      "text/plain": [
       "<Figure size 500x300 with 1 Axes>"
      ]
     },
     "metadata": {},
     "output_type": "display_data"
    }
   ],
   "source": [
    "# Identify the coldest and hottest months in Curiosity's location\n",
    "\n",
    "sorted_avg_low_temp = avg_low_temp_by_month.sort_values()\n",
    "\n",
    "# Plotting the data\n",
    "plt.figure(figsize=(5, 3))\n",
    "sorted_avg_low_temp.plot(kind='bar')\n",
    "\n",
    "# Adding title and labels\n",
    "plt.title('Lowest to Highest Avg Temperatures')\n",
    "plt.xlabel('Month')\n",
    "plt.ylabel('Temperature in Celsius')\n",
    "\n",
    "# Show the plot\n",
    "plt.show()\n",
    "\n",
    "# month 3 is the coldest\n",
    "# month 8 is the hottest"
   ]
  },
  {
   "cell_type": "code",
   "execution_count": 43,
   "metadata": {},
   "outputs": [
    {
     "data": {
      "text/plain": [
       "month\n",
       "1     862.488506\n",
       "2     889.455056\n",
       "3     877.322917\n",
       "4     806.329897\n",
       "5     748.557047\n",
       "6     745.054422\n",
       "7     795.105634\n",
       "8     873.829787\n",
       "9     913.305970\n",
       "10    887.312500\n",
       "11    857.014493\n",
       "12    842.156627\n",
       "Name: pressure, dtype: float64"
      ]
     },
     "execution_count": 43,
     "metadata": {},
     "output_type": "execute_result"
    }
   ],
   "source": [
    "# 4. Average pressure by Martian month\n",
    "avg_pressure_by_month = data_list_df.groupby('month')['pressure'].mean()\n",
    "\n",
    "# avg_pressure_by_month = avg_pressure_by_month.sort_values()\n",
    "\n",
    "avg_pressure_by_month\n"
   ]
  },
  {
   "cell_type": "code",
   "execution_count": 45,
   "metadata": {},
   "outputs": [
    {
     "data": {
      "image/png": "[encoded data removed]",
      "text/plain": [
       "<Figure size 500x300 with 1 Axes>"
      ]
     },
     "metadata": {},
     "output_type": "display_data"
    }
   ],
   "source": [
    "# Plot the average pressure by month\n",
    "sorted_avg_pressure_by_month = avg_pressure_by_month.sort_values()\n",
    "# Plotting the data\n",
    "plt.figure(figsize=(5, 3))\n",
    "sorted_avg_pressure_by_month.plot(kind='bar')\n",
    "\n",
    "plt.xlabel('Month')\n",
    "plt.ylabel('Atmospheric Pressure')\n",
    "\n",
    "plt.show()\n"
   ]
  },
  {
   "cell_type": "code",
   "execution_count": 51,
   "metadata": {},
   "outputs": [
    {
     "data": {
      "image/png": "[encoded data removed]",
      "text/plain": [
       "<Figure size 500x300 with 1 Axes>"
      ]
     },
     "metadata": {},
     "output_type": "display_data"
    }
   ],
   "source": [
    "# 5. How many terrestrial (earth) days are there in a Martian year?\n",
    "# creating a new column that has each unique terrestrial_date as a number\n",
    "data_list_df['terrestrial_day_number'] = (data_list_df['terrestrial_date'] - data_list_df['terrestrial_date'].min()).dt.days\n",
    "\n",
    "plt.figure(figsize=(5, 3))\n",
    "plt.plot(data_list_df['terrestrial_day_number'], data_list_df['min_temp'])\n",
    "plt.xlabel('Number of terrestrial days')\n",
    "plt.ylabel('Minimum Temperature')\n",
    "\n",
    "plt.show()"
   ]
  },
  {
   "cell_type": "markdown",
   "metadata": {},
   "source": [
    "On average, the third month has the coldest minimum temperature on Mars, and the eighth month is the warmest. But it is always very cold there in human terms!\n",
    "\n"
   ]
  },
  {
   "cell_type": "markdown",
   "metadata": {},
   "source": [
    "Atmospheric pressure is, on average, lowest in the sixth month and highest in the ninth."
   ]
  },
  {
   "cell_type": "markdown",
   "metadata": {},
   "source": [
    "The distance from peak to peak is roughly 1425-750, or 675 days. A year on Mars appears to be about 675 days from the plot. Internet search confirms that a Mars year is equivalent to 687 earth days."
   ]
  },
  {
   "cell_type": "markdown",
   "metadata": {},
   "source": [
    "### Step 6: Save the Data\n",
    "\n",
    "Export the DataFrame to a CSV file."
   ]
  },
  {
   "cell_type": "code",
   "execution_count": 20,
   "metadata": {},
   "outputs": [],
   "source": [
    "# Write the data to a CSV\n",
    "data_list_df.to_csv('mars_weather_data.csv')\n",
    "\n"
   ]
  },
  {
   "cell_type": "code",
   "execution_count": 21,
   "metadata": {},
   "outputs": [],
   "source": [
    "browser.quit()"
   ]
  },
  {
   "cell_type": "code",
   "execution_count": null,
   "metadata": {},
   "outputs": [],
   "source": []
  }
 ],
 "metadata": {
  "kernelspec": {
   "display_name": "Python 3 (ipykernel)",
   "language": "python",
   "name": "python3"
  },
  "language_info": {
   "codemirror_mode": {
    "name": "ipython",
    "version": 3
   },
   "file_extension": ".py",
   "mimetype": "text/x-python",
   "name": "python",
   "nbconvert_exporter": "python",
   "pygments_lexer": "ipython3",
   "version": "3.10.11"
  },
  "vscode": {
   "interpreter": {
    "hash": "31f2aee4e71d21fbe5cf8b01ff0e069b9275f58929596ceb00d14d90e3e16cd6"
   }
  }
 },
 "nbformat": 4,
 "nbformat_minor": 4
}
